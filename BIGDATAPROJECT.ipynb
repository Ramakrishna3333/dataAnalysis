{
  "nbformat": 4,
  "nbformat_minor": 0,
  "metadata": {
    "colab": {
      "provenance": []
    },
    "kernelspec": {
      "name": "python3",
      "display_name": "Python 3"
    },
    "language_info": {
      "name": "python"
    }
  },
  "cells": [
    {
      "cell_type": "code",
      "source": [
        "import numpy as np\n",
        "import pandas as pd\n",
        "df=pd.read_csv('/content/drive/MyDrive/salary/Salary_Data.csv')\n",
        "#volume_data=np.random.rand(1000000)\n",
        "v=len(df)\n",
        "print(\"volume of data\",v)"
      ],
      "metadata": {
        "colab": {
          "base_uri": "https://localhost:8080/"
        },
        "id": "68SzcxvBsZrT",
        "outputId": "2932f778-7d26-4ac8-d9b7-ba1e3e702492"
      },
      "execution_count": null,
      "outputs": [
        {
          "output_type": "stream",
          "name": "stdout",
          "text": [
            "volume of data 30\n"
          ]
        }
      ]
    },
    {
      "cell_type": "code",
      "source": [
        "import time\n",
        "for i in range(v):\n",
        "  velocity_data=np.random.rand()\n",
        "  print(\"velocity data is\",velocity_data)\n",
        "  time.sleep(2)"
      ],
      "metadata": {
        "colab": {
          "base_uri": "https://localhost:8080/"
        },
        "id": "5kS2FHYKsy2l",
        "outputId": "9f6f5064-3490-4a37-fd77-fb415907bcf6"
      },
      "execution_count": null,
      "outputs": [
        {
          "output_type": "stream",
          "name": "stdout",
          "text": [
            "velocity data is 0.6940509851502961\n",
            "velocity data is 0.04417521426795212\n",
            "velocity data is 0.12774970719429013\n",
            "velocity data is 0.9685806107314099\n",
            "velocity data is 0.7161016801378762\n",
            "velocity data is 0.7378583808430049\n",
            "velocity data is 0.6886145650684758\n",
            "velocity data is 0.7139444231317302\n",
            "velocity data is 0.7975328069698123\n",
            "velocity data is 0.7517230268545824\n",
            "velocity data is 0.9813861610681252\n",
            "velocity data is 0.07403160816468668\n",
            "velocity data is 0.04931509410780244\n",
            "velocity data is 0.5894551243439667\n",
            "velocity data is 0.9422813193399289\n",
            "velocity data is 0.5391282668646791\n",
            "velocity data is 0.13794019497577426\n",
            "velocity data is 0.6470200880959106\n",
            "velocity data is 0.9700698909657629\n",
            "velocity data is 0.9206628125541247\n",
            "velocity data is 0.7437235270242866\n",
            "velocity data is 0.7394457623524465\n",
            "velocity data is 0.9477501499572747\n",
            "velocity data is 0.7435199012373213\n",
            "velocity data is 0.494552502372958\n",
            "velocity data is 0.8551727291634386\n",
            "velocity data is 0.6816880315363778\n",
            "velocity data is 0.5697168975845429\n",
            "velocity data is 0.07418701537674033\n",
            "velocity data is 0.4579656797781194\n"
          ]
        }
      ]
    },
    {
      "cell_type": "code",
      "source": [
        "import random\n",
        "veracity_data=[random.choice(df.values.tolist())for _ in range(v)]\n",
        "print(veracity_data)"
      ],
      "metadata": {
        "colab": {
          "base_uri": "https://localhost:8080/"
        },
        "id": "mbOScPyathyp",
        "outputId": "23b9f60c-66c5-4e33-9700-517b9934f52c"
      },
      "execution_count": null,
      "outputs": [
        {
          "output_type": "stream",
          "name": "stdout",
          "text": [
            "[[2.2, 39891.0], [1.3, 46205.0], [5.9, 81363.0], [3.2, 54445.0], [7.9, 101302.0], [3.7, 57189.0], [8.2, 113812.0], [9.5, 116969.0], [9.6, 112635.0], [1.5, 37731.0], [10.5, 121872.0], [8.2, 113812.0], [2.0, 43525.0], [9.6, 112635.0], [1.3, 46205.0], [3.0, 60150.0], [5.3, 83088.0], [5.1, 66029.0], [1.1, 39343.0], [2.9, 56642.0], [4.0, 55794.0], [9.0, 105582.0], [6.0, 93940.0], [3.7, 57189.0], [6.0, 93940.0], [2.9, 56642.0], [7.9, 101302.0], [4.0, 55794.0], [1.1, 39343.0], [1.3, 46205.0]]\n"
          ]
        }
      ]
    },
    {
      "cell_type": "code",
      "source": [
        "print(\"Variety of data:\")\n",
        "print(df.info())"
      ],
      "metadata": {
        "colab": {
          "base_uri": "https://localhost:8080/"
        },
        "id": "390VEeX55SfL",
        "outputId": "92e522ce-2304-4ad8-c62b-011dc23f974b"
      },
      "execution_count": null,
      "outputs": [
        {
          "output_type": "stream",
          "name": "stdout",
          "text": [
            "Variety of data:\n",
            "<class 'pandas.core.frame.DataFrame'>\n",
            "RangeIndex: 30 entries, 0 to 29\n",
            "Data columns (total 2 columns):\n",
            " #   Column           Non-Null Count  Dtype  \n",
            "---  ------           --------------  -----  \n",
            " 0   YearsExperience  30 non-null     float64\n",
            " 1   Salary           30 non-null     float64\n",
            "dtypes: float64(2)\n",
            "memory usage: 608.0 bytes\n",
            "None\n"
          ]
        }
      ]
    }
  ]
}